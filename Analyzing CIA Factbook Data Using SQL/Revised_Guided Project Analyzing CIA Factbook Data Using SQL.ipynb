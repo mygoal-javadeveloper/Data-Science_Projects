{
 "cells": [
  {
   "cell_type": "markdown",
   "metadata": {
    "collapsed": true
   },
   "source": [
    "# Guided Project: Analyzing CIA Factbook Data Using SQL\n",
    "\n",
    "> The data from the [CIA World Factbook](<https://www.cia.gov/library/publications/the-world-factbook/>),\n",
    "> a compendium of statistics about all of the countries on Earth. \n",
    "> The Factbook contains demographic information like:\n",
    "> \n",
    "> * population - The population as of 2015.\n",
    "> * population_growth - The annual population growth rate, as a \n",
    "> percentage. \n",
    "> * area - The total land and water area.\n",
    ">\n",
    "> To download the SQLite database - [factbook.db](<https://dsserver-prod-resources-1.s3.amazonaws.com/257/factbook.db>)"
   ]
  },
  {
   "cell_type": "code",
   "execution_count": 1,
   "metadata": {
    "collapsed": false
   },
   "outputs": [
    {
     "data": {
      "text/plain": [
       "'Connected: None@factbook.db'"
      ]
     },
     "execution_count": 1,
     "metadata": {},
     "output_type": "execute_result"
    }
   ],
   "source": [
    "%%capture\n",
    "%load_ext sql\n",
    "%sql sqlite:///factbook.db"
   ]
  },
  {
   "cell_type": "code",
   "execution_count": 2,
   "metadata": {
    "collapsed": false
   },
   "outputs": [
    {
     "name": "stdout",
     "output_type": "stream",
     "text": [
      "Done.\n"
     ]
    },
    {
     "data": {
      "text/html": [
       "<table>\n",
       "    <tr>\n",
       "        <th>type</th>\n",
       "        <th>name</th>\n",
       "        <th>tbl_name</th>\n",
       "        <th>rootpage</th>\n",
       "        <th>sql</th>\n",
       "    </tr>\n",
       "    <tr>\n",
       "        <td>table</td>\n",
       "        <td>sqlite_sequence</td>\n",
       "        <td>sqlite_sequence</td>\n",
       "        <td>3</td>\n",
       "        <td>CREATE TABLE sqlite_sequence(name,seq)</td>\n",
       "    </tr>\n",
       "    <tr>\n",
       "        <td>table</td>\n",
       "        <td>facts</td>\n",
       "        <td>facts</td>\n",
       "        <td>47</td>\n",
       "        <td>CREATE TABLE &quot;facts&quot; (&quot;id&quot; INTEGER PRIMARY KEY AUTOINCREMENT NOT NULL, &quot;code&quot; varchar(255) NOT NULL, &quot;name&quot; varchar(255) NOT NULL, &quot;area&quot; integer, &quot;area_land&quot; integer, &quot;area_water&quot; integer, &quot;population&quot; integer, &quot;population_growth&quot; float, &quot;birth_rate&quot; float, &quot;death_rate&quot; float, &quot;migration_rate&quot; float)</td>\n",
       "    </tr>\n",
       "</table>"
      ],
      "text/plain": [
       "[('table', 'sqlite_sequence', 'sqlite_sequence', 3, 'CREATE TABLE sqlite_sequence(name,seq)'),\n",
       " ('table', 'facts', 'facts', 47, 'CREATE TABLE \"facts\" (\"id\" INTEGER PRIMARY KEY AUTOINCREMENT NOT NULL, \"code\" varchar(255) NOT NULL, \"name\" varchar(255) NOT NULL, \"area\" integer, \"a ... (4 characters truncated) ... land\" integer, \"area_water\" integer, \"population\" integer, \"population_growth\" float, \"birth_rate\" float, \"death_rate\" float, \"migration_rate\" float)')]"
      ]
     },
     "execution_count": 2,
     "metadata": {},
     "output_type": "execute_result"
    }
   ],
   "source": [
    "%%sql\n",
    "SELECT \n",
    "* \n",
    "FROM sqlite_master \n",
    "WHERE type='table';"
   ]
  },
  {
   "cell_type": "markdown",
   "metadata": {},
   "source": [
    "### Overview of the Data"
   ]
  },
  {
   "cell_type": "code",
   "execution_count": 3,
   "metadata": {
    "collapsed": false,
    "scrolled": true
   },
   "outputs": [
    {
     "name": "stdout",
     "output_type": "stream",
     "text": [
      "Done.\n"
     ]
    },
    {
     "data": {
      "text/html": [
       "<table>\n",
       "    <tr>\n",
       "        <th>id</th>\n",
       "        <th>code</th>\n",
       "        <th>name</th>\n",
       "        <th>area</th>\n",
       "        <th>area_land</th>\n",
       "        <th>area_water</th>\n",
       "        <th>population</th>\n",
       "        <th>population_growth</th>\n",
       "        <th>birth_rate</th>\n",
       "        <th>death_rate</th>\n",
       "        <th>migration_rate</th>\n",
       "    </tr>\n",
       "    <tr>\n",
       "        <td>1</td>\n",
       "        <td>af</td>\n",
       "        <td>Afghanistan</td>\n",
       "        <td>652230</td>\n",
       "        <td>652230</td>\n",
       "        <td>0</td>\n",
       "        <td>32564342</td>\n",
       "        <td>2.32</td>\n",
       "        <td>38.57</td>\n",
       "        <td>13.89</td>\n",
       "        <td>1.51</td>\n",
       "    </tr>\n",
       "    <tr>\n",
       "        <td>2</td>\n",
       "        <td>al</td>\n",
       "        <td>Albania</td>\n",
       "        <td>28748</td>\n",
       "        <td>27398</td>\n",
       "        <td>1350</td>\n",
       "        <td>3029278</td>\n",
       "        <td>0.3</td>\n",
       "        <td>12.92</td>\n",
       "        <td>6.58</td>\n",
       "        <td>3.3</td>\n",
       "    </tr>\n",
       "    <tr>\n",
       "        <td>3</td>\n",
       "        <td>ag</td>\n",
       "        <td>Algeria</td>\n",
       "        <td>2381741</td>\n",
       "        <td>2381741</td>\n",
       "        <td>0</td>\n",
       "        <td>39542166</td>\n",
       "        <td>1.84</td>\n",
       "        <td>23.67</td>\n",
       "        <td>4.31</td>\n",
       "        <td>0.92</td>\n",
       "    </tr>\n",
       "    <tr>\n",
       "        <td>4</td>\n",
       "        <td>an</td>\n",
       "        <td>Andorra</td>\n",
       "        <td>468</td>\n",
       "        <td>468</td>\n",
       "        <td>0</td>\n",
       "        <td>85580</td>\n",
       "        <td>0.12</td>\n",
       "        <td>8.13</td>\n",
       "        <td>6.96</td>\n",
       "        <td>0.0</td>\n",
       "    </tr>\n",
       "    <tr>\n",
       "        <td>5</td>\n",
       "        <td>ao</td>\n",
       "        <td>Angola</td>\n",
       "        <td>1246700</td>\n",
       "        <td>1246700</td>\n",
       "        <td>0</td>\n",
       "        <td>19625353</td>\n",
       "        <td>2.78</td>\n",
       "        <td>38.78</td>\n",
       "        <td>11.49</td>\n",
       "        <td>0.46</td>\n",
       "    </tr>\n",
       "</table>"
      ],
      "text/plain": [
       "[(1, 'af', 'Afghanistan', 652230, 652230, 0, 32564342, 2.32, 38.57, 13.89, 1.51),\n",
       " (2, 'al', 'Albania', 28748, 27398, 1350, 3029278, 0.3, 12.92, 6.58, 3.3),\n",
       " (3, 'ag', 'Algeria', 2381741, 2381741, 0, 39542166, 1.84, 23.67, 4.31, 0.92),\n",
       " (4, 'an', 'Andorra', 468, 468, 0, 85580, 0.12, 8.13, 6.96, 0.0),\n",
       " (5, 'ao', 'Angola', 1246700, 1246700, 0, 19625353, 2.78, 38.78, 11.49, 0.46)]"
      ]
     },
     "execution_count": 3,
     "metadata": {},
     "output_type": "execute_result"
    }
   ],
   "source": [
    "%%sql\n",
    "SELECT \n",
    "* \n",
    "FROM facts \n",
    "LIMIT 5;"
   ]
  },
  {
   "cell_type": "markdown",
   "metadata": {},
   "source": [
    "### Here are the descriptions of the columns:\n",
    "\n",
    "|Column Name|Description|\n",
    "|:----|:----|\n",
    "|name|The name of the country|\n",
    "|area|The total land and sea area of the country.|\n",
    "|population|The country's population.|\n",
    "|population_growth|The country's population growth as a percentage.|\n",
    "|birth_rate|The country's birth rate, or the number of births a year per 1,000 people.|\n",
    "|death_rate|The country's death rate, or the number of death a year per 1,000 people.|\n",
    "|area|The country's total area (both land and water).|\n",
    "|area_land|The country's land area in square kilometers.|\n",
    "|area_water|The country's waterarea in square kilometers.|"
   ]
  },
  {
   "cell_type": "markdown",
   "metadata": {
    "collapsed": true
   },
   "source": [
    "### Calculating some summary statistics and looking for any outlier countries"
   ]
  },
  {
   "cell_type": "code",
   "execution_count": 4,
   "metadata": {
    "collapsed": false
   },
   "outputs": [
    {
     "name": "stdout",
     "output_type": "stream",
     "text": [
      "Done.\n"
     ]
    },
    {
     "data": {
      "text/html": [
       "<table>\n",
       "    <tr>\n",
       "        <th>min_pop</th>\n",
       "        <th>max_pop</th>\n",
       "        <th>min_pop_grwth</th>\n",
       "        <th>max_pop_grwth</th>\n",
       "    </tr>\n",
       "    <tr>\n",
       "        <td>0</td>\n",
       "        <td>7256490011</td>\n",
       "        <td>0.0</td>\n",
       "        <td>4.02</td>\n",
       "    </tr>\n",
       "</table>"
      ],
      "text/plain": [
       "[(0, 7256490011, 0.0, 4.02)]"
      ]
     },
     "execution_count": 4,
     "metadata": {},
     "output_type": "execute_result"
    }
   ],
   "source": [
    "%%sql\n",
    "SELECT \n",
    "    MIN(population) AS min_pop, \n",
    "    MAX(population) AS max_pop, \n",
    "    MIN(population_growth) AS min_pop_grwth, \n",
    "    MAX(population_growth) AS max_pop_grwth \n",
    "FROM facts;"
   ]
  },
  {
   "cell_type": "markdown",
   "metadata": {},
   "source": [
    "> The result we got from our above query is really astounding, we \n",
    "> have a country with zero population and a country with more \n",
    "> than 7.2 billion people. Also we have astounding population \n",
    "> growth rate. Can we associate the same with the respective \n",
    "> country with population 0 and more than 7.2 billion population?\n",
    ">\n",
    "> Let us find out these two countries. And the countries with 0.0 \n",
    "> and 4.02 population growth rate."
   ]
  },
  {
   "cell_type": "code",
   "execution_count": 5,
   "metadata": {
    "collapsed": false
   },
   "outputs": [
    {
     "name": "stdout",
     "output_type": "stream",
     "text": [
      "Done.\n"
     ]
    },
    {
     "data": {
      "text/html": [
       "<table>\n",
       "    <tr>\n",
       "        <th>country</th>\n",
       "        <th>pop</th>\n",
       "        <th>pop_grwth</th>\n",
       "    </tr>\n",
       "    <tr>\n",
       "        <td>Antarctica</td>\n",
       "        <td>0</td>\n",
       "        <td>None</td>\n",
       "    </tr>\n",
       "</table>"
      ],
      "text/plain": [
       "[('Antarctica', 0, None)]"
      ]
     },
     "execution_count": 5,
     "metadata": {},
     "output_type": "execute_result"
    }
   ],
   "source": [
    "%%sql\n",
    "SELECT \n",
    "    name AS country, \n",
    "    population AS pop,\n",
    "    population_growth AS pop_grwth\n",
    "FROM facts \n",
    "WHERE pop == (SELECT MIN(population) FROM facts);"
   ]
  },
  {
   "cell_type": "markdown",
   "metadata": {},
   "source": [
    "> There is only one country with least population (population of \n",
    "> 0 or no population at all):\n",
    "> **Antarctica**"
   ]
  },
  {
   "cell_type": "code",
   "execution_count": 6,
   "metadata": {
    "collapsed": false
   },
   "outputs": [
    {
     "name": "stdout",
     "output_type": "stream",
     "text": [
      "Done.\n"
     ]
    },
    {
     "data": {
      "text/html": [
       "<table>\n",
       "    <tr>\n",
       "        <th>country</th>\n",
       "        <th>pop</th>\n",
       "        <th>pop_grwth</th>\n",
       "    </tr>\n",
       "    <tr>\n",
       "        <td>World</td>\n",
       "        <td>7256490011</td>\n",
       "        <td>1.08</td>\n",
       "    </tr>\n",
       "</table>"
      ],
      "text/plain": [
       "[('World', 7256490011, 1.08)]"
      ]
     },
     "execution_count": 6,
     "metadata": {},
     "output_type": "execute_result"
    }
   ],
   "source": [
    "%%sql\n",
    "SELECT \n",
    "    name AS country, \n",
    "    population AS pop,\n",
    "    population_growth AS pop_grwth\n",
    "FROM facts \n",
    "WHERE pop == (SELECT MAX(population) FROM facts);"
   ]
  },
  {
   "cell_type": "markdown",
   "metadata": {},
   "source": [
    "> There is only one country with maximum population (population \n",
    "> of over 7.2 billion):\n",
    "> **World**\n",
    "> \n",
    "> Taking into consideration that here the World as a whole is \n",
    "> counted to be one big country itself on our Earth."
   ]
  },
  {
   "cell_type": "code",
   "execution_count": 7,
   "metadata": {
    "collapsed": false
   },
   "outputs": [
    {
     "name": "stdout",
     "output_type": "stream",
     "text": [
      "Done.\n"
     ]
    },
    {
     "data": {
      "text/html": [
       "<table>\n",
       "    <tr>\n",
       "        <th>country</th>\n",
       "        <th>pop</th>\n",
       "        <th>pop_grwth</th>\n",
       "    </tr>\n",
       "    <tr>\n",
       "        <td>Holy See (Vatican City)</td>\n",
       "        <td>842</td>\n",
       "        <td>0.0</td>\n",
       "    </tr>\n",
       "    <tr>\n",
       "        <td>Cocos (Keeling) Islands</td>\n",
       "        <td>596</td>\n",
       "        <td>0.0</td>\n",
       "    </tr>\n",
       "    <tr>\n",
       "        <td>Greenland</td>\n",
       "        <td>57733</td>\n",
       "        <td>0.0</td>\n",
       "    </tr>\n",
       "    <tr>\n",
       "        <td>Pitcairn Islands</td>\n",
       "        <td>48</td>\n",
       "        <td>0.0</td>\n",
       "    </tr>\n",
       "</table>"
      ],
      "text/plain": [
       "[('Holy See (Vatican City)', 842, 0.0),\n",
       " ('Cocos (Keeling) Islands', 596, 0.0),\n",
       " ('Greenland', 57733, 0.0),\n",
       " ('Pitcairn Islands', 48, 0.0)]"
      ]
     },
     "execution_count": 7,
     "metadata": {},
     "output_type": "execute_result"
    }
   ],
   "source": [
    "%%sql\n",
    "SELECT \n",
    "    name AS country, \n",
    "    population AS pop,\n",
    "    population_growth AS pop_grwth\n",
    "FROM facts \n",
    "WHERE pop_grwth == (SELECT MIN(population_growth) FROM facts);"
   ]
  },
  {
   "cell_type": "code",
   "execution_count": 8,
   "metadata": {
    "collapsed": false
   },
   "outputs": [
    {
     "name": "stdout",
     "output_type": "stream",
     "text": [
      "Done.\n"
     ]
    },
    {
     "data": {
      "text/html": [
       "<table>\n",
       "    <tr>\n",
       "        <th>country</th>\n",
       "        <th>pop</th>\n",
       "        <th>pop_grwth</th>\n",
       "    </tr>\n",
       "    <tr>\n",
       "        <td>South Sudan</td>\n",
       "        <td>12042910</td>\n",
       "        <td>4.02</td>\n",
       "    </tr>\n",
       "</table>"
      ],
      "text/plain": [
       "[('South Sudan', 12042910, 4.02)]"
      ]
     },
     "execution_count": 8,
     "metadata": {},
     "output_type": "execute_result"
    }
   ],
   "source": [
    "%%sql\n",
    "SELECT \n",
    "    name AS country, \n",
    "    population AS pop,\n",
    "    population_growth AS pop_grwth\n",
    "FROM facts \n",
    "WHERE pop_grwth == (SELECT MAX(population_growth) FROM facts);"
   ]
  },
  {
   "cell_type": "code",
   "execution_count": 9,
   "metadata": {
    "collapsed": false
   },
   "outputs": [
    {
     "name": "stdout",
     "output_type": "stream",
     "text": [
      "Done.\n"
     ]
    },
    {
     "data": {
      "text/html": [
       "<table>\n",
       "    <tr>\n",
       "        <th>pop_grwth</th>\n",
       "    </tr>\n",
       "    <tr>\n",
       "        <td>4.02</td>\n",
       "    </tr>\n",
       "    <tr>\n",
       "        <td>3.32</td>\n",
       "    </tr>\n",
       "    <tr>\n",
       "        <td>3.28</td>\n",
       "    </tr>\n",
       "    <tr>\n",
       "        <td>3.25</td>\n",
       "    </tr>\n",
       "    <tr>\n",
       "        <td>3.24</td>\n",
       "    </tr>\n",
       "    <tr>\n",
       "        <td>3.07</td>\n",
       "    </tr>\n",
       "    <tr>\n",
       "        <td>3.03</td>\n",
       "    </tr>\n",
       "    <tr>\n",
       "        <td>2.98</td>\n",
       "    </tr>\n",
       "    <tr>\n",
       "        <td>2.95</td>\n",
       "    </tr>\n",
       "    <tr>\n",
       "        <td>2.93</td>\n",
       "    </tr>\n",
       "    <tr>\n",
       "        <td>2.89</td>\n",
       "    </tr>\n",
       "    <tr>\n",
       "        <td>2.88</td>\n",
       "    </tr>\n",
       "    <tr>\n",
       "        <td>2.82</td>\n",
       "    </tr>\n",
       "    <tr>\n",
       "        <td>2.81</td>\n",
       "    </tr>\n",
       "    <tr>\n",
       "        <td>2.79</td>\n",
       "    </tr>\n",
       "    <tr>\n",
       "        <td>2.78</td>\n",
       "    </tr>\n",
       "    <tr>\n",
       "        <td>2.69</td>\n",
       "    </tr>\n",
       "    <tr>\n",
       "        <td>2.63</td>\n",
       "    </tr>\n",
       "    <tr>\n",
       "        <td>2.59</td>\n",
       "    </tr>\n",
       "    <tr>\n",
       "        <td>2.58</td>\n",
       "    </tr>\n",
       "    <tr>\n",
       "        <td>2.56</td>\n",
       "    </tr>\n",
       "    <tr>\n",
       "        <td>2.51</td>\n",
       "    </tr>\n",
       "    <tr>\n",
       "        <td>2.47</td>\n",
       "    </tr>\n",
       "    <tr>\n",
       "        <td>2.45</td>\n",
       "    </tr>\n",
       "    <tr>\n",
       "        <td>2.42</td>\n",
       "    </tr>\n",
       "    <tr>\n",
       "        <td>2.41</td>\n",
       "    </tr>\n",
       "    <tr>\n",
       "        <td>2.35</td>\n",
       "    </tr>\n",
       "    <tr>\n",
       "        <td>2.32</td>\n",
       "    </tr>\n",
       "    <tr>\n",
       "        <td>2.3</td>\n",
       "    </tr>\n",
       "    <tr>\n",
       "        <td>2.25</td>\n",
       "    </tr>\n",
       "    <tr>\n",
       "        <td>2.23</td>\n",
       "    </tr>\n",
       "    <tr>\n",
       "        <td>2.21</td>\n",
       "    </tr>\n",
       "    <tr>\n",
       "        <td>2.2</td>\n",
       "    </tr>\n",
       "    <tr>\n",
       "        <td>2.18</td>\n",
       "    </tr>\n",
       "    <tr>\n",
       "        <td>2.16</td>\n",
       "    </tr>\n",
       "    <tr>\n",
       "        <td>2.13</td>\n",
       "    </tr>\n",
       "    <tr>\n",
       "        <td>2.1</td>\n",
       "    </tr>\n",
       "    <tr>\n",
       "        <td>2.07</td>\n",
       "    </tr>\n",
       "    <tr>\n",
       "        <td>2.03</td>\n",
       "    </tr>\n",
       "    <tr>\n",
       "        <td>2.02</td>\n",
       "    </tr>\n",
       "    <tr>\n",
       "        <td>2.0</td>\n",
       "    </tr>\n",
       "    <tr>\n",
       "        <td>1.95</td>\n",
       "    </tr>\n",
       "    <tr>\n",
       "        <td>1.93</td>\n",
       "    </tr>\n",
       "    <tr>\n",
       "        <td>1.91</td>\n",
       "    </tr>\n",
       "    <tr>\n",
       "        <td>1.89</td>\n",
       "    </tr>\n",
       "    <tr>\n",
       "        <td>1.87</td>\n",
       "    </tr>\n",
       "    <tr>\n",
       "        <td>1.84</td>\n",
       "    </tr>\n",
       "    <tr>\n",
       "        <td>1.83</td>\n",
       "    </tr>\n",
       "    <tr>\n",
       "        <td>1.82</td>\n",
       "    </tr>\n",
       "    <tr>\n",
       "        <td>1.79</td>\n",
       "    </tr>\n",
       "    <tr>\n",
       "        <td>1.78</td>\n",
       "    </tr>\n",
       "    <tr>\n",
       "        <td>1.77</td>\n",
       "    </tr>\n",
       "    <tr>\n",
       "        <td>1.72</td>\n",
       "    </tr>\n",
       "    <tr>\n",
       "        <td>1.71</td>\n",
       "    </tr>\n",
       "    <tr>\n",
       "        <td>1.68</td>\n",
       "    </tr>\n",
       "    <tr>\n",
       "        <td>1.66</td>\n",
       "    </tr>\n",
       "    <tr>\n",
       "        <td>1.62</td>\n",
       "    </tr>\n",
       "    <tr>\n",
       "        <td>1.61</td>\n",
       "    </tr>\n",
       "    <tr>\n",
       "        <td>1.6</td>\n",
       "    </tr>\n",
       "    <tr>\n",
       "        <td>1.58</td>\n",
       "    </tr>\n",
       "    <tr>\n",
       "        <td>1.56</td>\n",
       "    </tr>\n",
       "    <tr>\n",
       "        <td>1.55</td>\n",
       "    </tr>\n",
       "    <tr>\n",
       "        <td>1.51</td>\n",
       "    </tr>\n",
       "    <tr>\n",
       "        <td>1.46</td>\n",
       "    </tr>\n",
       "    <tr>\n",
       "        <td>1.44</td>\n",
       "    </tr>\n",
       "    <tr>\n",
       "        <td>1.43</td>\n",
       "    </tr>\n",
       "    <tr>\n",
       "        <td>1.39</td>\n",
       "    </tr>\n",
       "    <tr>\n",
       "        <td>1.38</td>\n",
       "    </tr>\n",
       "    <tr>\n",
       "        <td>1.36</td>\n",
       "    </tr>\n",
       "    <tr>\n",
       "        <td>1.35</td>\n",
       "    </tr>\n",
       "    <tr>\n",
       "        <td>1.33</td>\n",
       "    </tr>\n",
       "    <tr>\n",
       "        <td>1.32</td>\n",
       "    </tr>\n",
       "    <tr>\n",
       "        <td>1.31</td>\n",
       "    </tr>\n",
       "    <tr>\n",
       "        <td>1.26</td>\n",
       "    </tr>\n",
       "    <tr>\n",
       "        <td>1.25</td>\n",
       "    </tr>\n",
       "    <tr>\n",
       "        <td>1.24</td>\n",
       "    </tr>\n",
       "    <tr>\n",
       "        <td>1.23</td>\n",
       "    </tr>\n",
       "    <tr>\n",
       "        <td>1.22</td>\n",
       "    </tr>\n",
       "    <tr>\n",
       "        <td>1.21</td>\n",
       "    </tr>\n",
       "    <tr>\n",
       "        <td>1.2</td>\n",
       "    </tr>\n",
       "    <tr>\n",
       "        <td>1.18</td>\n",
       "    </tr>\n",
       "    <tr>\n",
       "        <td>1.17</td>\n",
       "    </tr>\n",
       "    <tr>\n",
       "        <td>1.16</td>\n",
       "    </tr>\n",
       "    <tr>\n",
       "        <td>1.15</td>\n",
       "    </tr>\n",
       "    <tr>\n",
       "        <td>1.14</td>\n",
       "    </tr>\n",
       "    <tr>\n",
       "        <td>1.13</td>\n",
       "    </tr>\n",
       "    <tr>\n",
       "        <td>1.11</td>\n",
       "    </tr>\n",
       "    <tr>\n",
       "        <td>1.08</td>\n",
       "    </tr>\n",
       "    <tr>\n",
       "        <td>1.07</td>\n",
       "    </tr>\n",
       "    <tr>\n",
       "        <td>1.06</td>\n",
       "    </tr>\n",
       "    <tr>\n",
       "        <td>1.04</td>\n",
       "    </tr>\n",
       "    <tr>\n",
       "        <td>1.03</td>\n",
       "    </tr>\n",
       "    <tr>\n",
       "        <td>1.01</td>\n",
       "    </tr>\n",
       "    <tr>\n",
       "        <td>1.0</td>\n",
       "    </tr>\n",
       "    <tr>\n",
       "        <td>0.97</td>\n",
       "    </tr>\n",
       "    <tr>\n",
       "        <td>0.96</td>\n",
       "    </tr>\n",
       "    <tr>\n",
       "        <td>0.94</td>\n",
       "    </tr>\n",
       "    <tr>\n",
       "        <td>0.93</td>\n",
       "    </tr>\n",
       "    <tr>\n",
       "        <td>0.92</td>\n",
       "    </tr>\n",
       "    <tr>\n",
       "        <td>0.89</td>\n",
       "    </tr>\n",
       "    <tr>\n",
       "        <td>0.86</td>\n",
       "    </tr>\n",
       "    <tr>\n",
       "        <td>0.85</td>\n",
       "    </tr>\n",
       "    <tr>\n",
       "        <td>0.84</td>\n",
       "    </tr>\n",
       "    <tr>\n",
       "        <td>0.83</td>\n",
       "    </tr>\n",
       "    <tr>\n",
       "        <td>0.82</td>\n",
       "    </tr>\n",
       "    <tr>\n",
       "        <td>0.8</td>\n",
       "    </tr>\n",
       "    <tr>\n",
       "        <td>0.78</td>\n",
       "    </tr>\n",
       "    <tr>\n",
       "        <td>0.77</td>\n",
       "    </tr>\n",
       "    <tr>\n",
       "        <td>0.76</td>\n",
       "    </tr>\n",
       "    <tr>\n",
       "        <td>0.75</td>\n",
       "    </tr>\n",
       "    <tr>\n",
       "        <td>0.71</td>\n",
       "    </tr>\n",
       "    <tr>\n",
       "        <td>0.68</td>\n",
       "    </tr>\n",
       "    <tr>\n",
       "        <td>0.67</td>\n",
       "    </tr>\n",
       "    <tr>\n",
       "        <td>0.64</td>\n",
       "    </tr>\n",
       "    <tr>\n",
       "        <td>0.6</td>\n",
       "    </tr>\n",
       "    <tr>\n",
       "        <td>0.59</td>\n",
       "    </tr>\n",
       "    <tr>\n",
       "        <td>0.58</td>\n",
       "    </tr>\n",
       "    <tr>\n",
       "        <td>0.55</td>\n",
       "    </tr>\n",
       "    <tr>\n",
       "        <td>0.54</td>\n",
       "    </tr>\n",
       "    <tr>\n",
       "        <td>0.53</td>\n",
       "    </tr>\n",
       "    <tr>\n",
       "        <td>0.51</td>\n",
       "    </tr>\n",
       "    <tr>\n",
       "        <td>0.5</td>\n",
       "    </tr>\n",
       "    <tr>\n",
       "        <td>0.48</td>\n",
       "    </tr>\n",
       "    <tr>\n",
       "        <td>0.46</td>\n",
       "    </tr>\n",
       "    <tr>\n",
       "        <td>0.45</td>\n",
       "    </tr>\n",
       "    <tr>\n",
       "        <td>0.43</td>\n",
       "    </tr>\n",
       "    <tr>\n",
       "        <td>0.42</td>\n",
       "    </tr>\n",
       "    <tr>\n",
       "        <td>0.41</td>\n",
       "    </tr>\n",
       "    <tr>\n",
       "        <td>0.4</td>\n",
       "    </tr>\n",
       "    <tr>\n",
       "        <td>0.38</td>\n",
       "    </tr>\n",
       "    <tr>\n",
       "        <td>0.34</td>\n",
       "    </tr>\n",
       "    <tr>\n",
       "        <td>0.33</td>\n",
       "    </tr>\n",
       "    <tr>\n",
       "        <td>0.32</td>\n",
       "    </tr>\n",
       "    <tr>\n",
       "        <td>0.31</td>\n",
       "    </tr>\n",
       "    <tr>\n",
       "        <td>0.3</td>\n",
       "    </tr>\n",
       "    <tr>\n",
       "        <td>0.28</td>\n",
       "    </tr>\n",
       "    <tr>\n",
       "        <td>0.27</td>\n",
       "    </tr>\n",
       "    <tr>\n",
       "        <td>0.26</td>\n",
       "    </tr>\n",
       "    <tr>\n",
       "        <td>0.25</td>\n",
       "    </tr>\n",
       "    <tr>\n",
       "        <td>0.24</td>\n",
       "    </tr>\n",
       "    <tr>\n",
       "        <td>0.23</td>\n",
       "    </tr>\n",
       "    <tr>\n",
       "        <td>0.22</td>\n",
       "    </tr>\n",
       "    <tr>\n",
       "        <td>0.21</td>\n",
       "    </tr>\n",
       "    <tr>\n",
       "        <td>0.2</td>\n",
       "    </tr>\n",
       "    <tr>\n",
       "        <td>0.17</td>\n",
       "    </tr>\n",
       "    <tr>\n",
       "        <td>0.16</td>\n",
       "    </tr>\n",
       "    <tr>\n",
       "        <td>0.15</td>\n",
       "    </tr>\n",
       "    <tr>\n",
       "        <td>0.14</td>\n",
       "    </tr>\n",
       "    <tr>\n",
       "        <td>0.13</td>\n",
       "    </tr>\n",
       "    <tr>\n",
       "        <td>0.12</td>\n",
       "    </tr>\n",
       "    <tr>\n",
       "        <td>0.09</td>\n",
       "    </tr>\n",
       "    <tr>\n",
       "        <td>0.08</td>\n",
       "    </tr>\n",
       "    <tr>\n",
       "        <td>0.04</td>\n",
       "    </tr>\n",
       "    <tr>\n",
       "        <td>0.03</td>\n",
       "    </tr>\n",
       "    <tr>\n",
       "        <td>0.02</td>\n",
       "    </tr>\n",
       "    <tr>\n",
       "        <td>0.01</td>\n",
       "    </tr>\n",
       "    <tr>\n",
       "        <td>0.0</td>\n",
       "    </tr>\n",
       "    <tr>\n",
       "        <td>None</td>\n",
       "    </tr>\n",
       "</table>"
      ],
      "text/plain": [
       "[(4.02,),\n",
       " (3.32,),\n",
       " (3.28,),\n",
       " (3.25,),\n",
       " (3.24,),\n",
       " (3.07,),\n",
       " (3.03,),\n",
       " (2.98,),\n",
       " (2.95,),\n",
       " (2.93,),\n",
       " (2.89,),\n",
       " (2.88,),\n",
       " (2.82,),\n",
       " (2.81,),\n",
       " (2.79,),\n",
       " (2.78,),\n",
       " (2.69,),\n",
       " (2.63,),\n",
       " (2.59,),\n",
       " (2.58,),\n",
       " (2.56,),\n",
       " (2.51,),\n",
       " (2.47,),\n",
       " (2.45,),\n",
       " (2.42,),\n",
       " (2.41,),\n",
       " (2.35,),\n",
       " (2.32,),\n",
       " (2.3,),\n",
       " (2.25,),\n",
       " (2.23,),\n",
       " (2.21,),\n",
       " (2.2,),\n",
       " (2.18,),\n",
       " (2.16,),\n",
       " (2.13,),\n",
       " (2.1,),\n",
       " (2.07,),\n",
       " (2.03,),\n",
       " (2.02,),\n",
       " (2.0,),\n",
       " (1.95,),\n",
       " (1.93,),\n",
       " (1.91,),\n",
       " (1.89,),\n",
       " (1.87,),\n",
       " (1.84,),\n",
       " (1.83,),\n",
       " (1.82,),\n",
       " (1.79,),\n",
       " (1.78,),\n",
       " (1.77,),\n",
       " (1.72,),\n",
       " (1.71,),\n",
       " (1.68,),\n",
       " (1.66,),\n",
       " (1.62,),\n",
       " (1.61,),\n",
       " (1.6,),\n",
       " (1.58,),\n",
       " (1.56,),\n",
       " (1.55,),\n",
       " (1.51,),\n",
       " (1.46,),\n",
       " (1.44,),\n",
       " (1.43,),\n",
       " (1.39,),\n",
       " (1.38,),\n",
       " (1.36,),\n",
       " (1.35,),\n",
       " (1.33,),\n",
       " (1.32,),\n",
       " (1.31,),\n",
       " (1.26,),\n",
       " (1.25,),\n",
       " (1.24,),\n",
       " (1.23,),\n",
       " (1.22,),\n",
       " (1.21,),\n",
       " (1.2,),\n",
       " (1.18,),\n",
       " (1.17,),\n",
       " (1.16,),\n",
       " (1.15,),\n",
       " (1.14,),\n",
       " (1.13,),\n",
       " (1.11,),\n",
       " (1.08,),\n",
       " (1.07,),\n",
       " (1.06,),\n",
       " (1.04,),\n",
       " (1.03,),\n",
       " (1.01,),\n",
       " (1.0,),\n",
       " (0.97,),\n",
       " (0.96,),\n",
       " (0.94,),\n",
       " (0.93,),\n",
       " (0.92,),\n",
       " (0.89,),\n",
       " (0.86,),\n",
       " (0.85,),\n",
       " (0.84,),\n",
       " (0.83,),\n",
       " (0.82,),\n",
       " (0.8,),\n",
       " (0.78,),\n",
       " (0.77,),\n",
       " (0.76,),\n",
       " (0.75,),\n",
       " (0.71,),\n",
       " (0.68,),\n",
       " (0.67,),\n",
       " (0.64,),\n",
       " (0.6,),\n",
       " (0.59,),\n",
       " (0.58,),\n",
       " (0.55,),\n",
       " (0.54,),\n",
       " (0.53,),\n",
       " (0.51,),\n",
       " (0.5,),\n",
       " (0.48,),\n",
       " (0.46,),\n",
       " (0.45,),\n",
       " (0.43,),\n",
       " (0.42,),\n",
       " (0.41,),\n",
       " (0.4,),\n",
       " (0.38,),\n",
       " (0.34,),\n",
       " (0.33,),\n",
       " (0.32,),\n",
       " (0.31,),\n",
       " (0.3,),\n",
       " (0.28,),\n",
       " (0.27,),\n",
       " (0.26,),\n",
       " (0.25,),\n",
       " (0.24,),\n",
       " (0.23,),\n",
       " (0.22,),\n",
       " (0.21,),\n",
       " (0.2,),\n",
       " (0.17,),\n",
       " (0.16,),\n",
       " (0.15,),\n",
       " (0.14,),\n",
       " (0.13,),\n",
       " (0.12,),\n",
       " (0.09,),\n",
       " (0.08,),\n",
       " (0.04,),\n",
       " (0.03,),\n",
       " (0.02,),\n",
       " (0.01,),\n",
       " (0.0,),\n",
       " (None,)]"
      ]
     },
     "execution_count": 9,
     "metadata": {},
     "output_type": "execute_result"
    }
   ],
   "source": [
    "%%sql\n",
    "SELECT \n",
    "    DISTINCT population_growth AS pop_grwth\n",
    "FROM facts\n",
    "ORDER BY pop_grwth DESC;"
   ]
  },
  {
   "cell_type": "markdown",
   "metadata": {},
   "source": [
    "> Thus from the results of above SQL queries we conclude \n",
    "> that:\n",
    ">\n",
    "> * the table contains a row for Antarctica, which explains having a value 0 in the population column.\n",
    "> * the table contains a row for the whole world, which explains having a value of over 7.2 billion in the population column. \n",
    ">\n",
    "> This seems to match the CIA Factbook [page for Antarctica](<https://www.cia.gov/library/publications/the-world-factbook/geos/ay.html>)\n",
    ">\n",
    "> We also found that Antarctica population growth is None, but \n",
    "> obvious there is no population, and World population growth is \n",
    "> 1.08. The minimum and maximum values in population_growth \n",
    "> columns are not associated with these two countries as we had \n",
    "> assumed previously.\n",
    "> * the table contains 4 countries which do have some population \n",
    "> but numbers shows zero population growth in these countries.\n",
    "> * our query above reveals that South Sudan is the country which has maximum population growth rate of 4.02."
   ]
  },
  {
   "cell_type": "markdown",
   "metadata": {
    "collapsed": true
   },
   "source": [
    "### Finding the average of population and area column"
   ]
  },
  {
   "cell_type": "code",
   "execution_count": 10,
   "metadata": {
    "collapsed": false
   },
   "outputs": [
    {
     "name": "stdout",
     "output_type": "stream",
     "text": [
      "Done.\n"
     ]
    },
    {
     "data": {
      "text/html": [
       "<table>\n",
       "    <tr>\n",
       "        <th>pop_avg</th>\n",
       "        <th>area_avg</th>\n",
       "    </tr>\n",
       "    <tr>\n",
       "        <td>62094928.32231405</td>\n",
       "        <td>555093.546184739</td>\n",
       "    </tr>\n",
       "</table>"
      ],
      "text/plain": [
       "[(62094928.32231405, 555093.546184739)]"
      ]
     },
     "execution_count": 10,
     "metadata": {},
     "output_type": "execute_result"
    }
   ],
   "source": [
    "%%sql\n",
    "SELECT \n",
    "    AVG(population) AS pop_avg, \n",
    "    AVG(area) AS area_avg \n",
    "FROM facts;"
   ]
  },
  {
   "cell_type": "markdown",
   "metadata": {},
   "source": [
    "> The result of above query reveals that the average population \n",
    "> is far more than the average area. Does this means \n",
    "> overpopulated?\n",
    ">\n",
    "> Let us find the countries which are overpopulated / densely \n",
    "> populated."
   ]
  },
  {
   "cell_type": "markdown",
   "metadata": {
    "collapsed": true
   },
   "source": [
    "### Finding countries that are densely populated"
   ]
  },
  {
   "cell_type": "code",
   "execution_count": 11,
   "metadata": {
    "collapsed": false
   },
   "outputs": [
    {
     "name": "stdout",
     "output_type": "stream",
     "text": [
      "Done.\n"
     ]
    },
    {
     "data": {
      "text/html": [
       "<table>\n",
       "    <tr>\n",
       "        <th>countries</th>\n",
       "        <th>pop</th>\n",
       "        <th>area</th>\n",
       "    </tr>\n",
       "    <tr>\n",
       "        <td>Bangladesh</td>\n",
       "        <td>168957745</td>\n",
       "        <td>148460</td>\n",
       "    </tr>\n",
       "    <tr>\n",
       "        <td>Germany</td>\n",
       "        <td>80854408</td>\n",
       "        <td>357022</td>\n",
       "    </tr>\n",
       "    <tr>\n",
       "        <td>Japan</td>\n",
       "        <td>126919659</td>\n",
       "        <td>377915</td>\n",
       "    </tr>\n",
       "    <tr>\n",
       "        <td>Philippines</td>\n",
       "        <td>100998376</td>\n",
       "        <td>300000</td>\n",
       "    </tr>\n",
       "    <tr>\n",
       "        <td>Thailand</td>\n",
       "        <td>67976405</td>\n",
       "        <td>513120</td>\n",
       "    </tr>\n",
       "    <tr>\n",
       "        <td>United Kingdom</td>\n",
       "        <td>64088222</td>\n",
       "        <td>243610</td>\n",
       "    </tr>\n",
       "    <tr>\n",
       "        <td>Vietnam</td>\n",
       "        <td>94348835</td>\n",
       "        <td>331210</td>\n",
       "    </tr>\n",
       "</table>"
      ],
      "text/plain": [
       "[('Bangladesh', 168957745, 148460),\n",
       " ('Germany', 80854408, 357022),\n",
       " ('Japan', 126919659, 377915),\n",
       " ('Philippines', 100998376, 300000),\n",
       " ('Thailand', 67976405, 513120),\n",
       " ('United Kingdom', 64088222, 243610),\n",
       " ('Vietnam', 94348835, 331210)]"
      ]
     },
     "execution_count": 11,
     "metadata": {},
     "output_type": "execute_result"
    }
   ],
   "source": [
    "%%sql\n",
    "SELECT \n",
    "    name AS countries,\n",
    "    population AS pop,\n",
    "    area AS area\n",
    "FROM facts \n",
    "WHERE population > (SELECT AVG(population) FROM facts) And \n",
    "area < (SELECT AVG(area) FROM facts);"
   ]
  },
  {
   "cell_type": "markdown",
   "metadata": {},
   "source": [
    "> Above query outputs the name of the countries in the table \n",
    "> having dense population.\n",
    ">\n",
    "> To find countries that are densely populated we need to \n",
    "> identify the countries that have:\n",
    "> * Above average values for population\n",
    ">\n",
    "> and \n",
    "> * Below average values for area.\n",
    ">\n",
    "> The result of our above queries shows that as per 2015 records \n",
    "> there are seven countries which are overpopulated / densely \n",
    "> populated. And South Sudan is having the highest population \n",
    "> growth rate."
   ]
  },
  {
   "cell_type": "markdown",
   "metadata": {
    "collapsed": true
   },
   "source": [
    "### Countries having the highest ratios of water to land"
   ]
  },
  {
   "cell_type": "code",
   "execution_count": 12,
   "metadata": {
    "collapsed": false
   },
   "outputs": [
    {
     "name": "stdout",
     "output_type": "stream",
     "text": [
      "Done.\n"
     ]
    },
    {
     "data": {
      "text/html": [
       "<table>\n",
       "    <tr>\n",
       "        <th>countries</th>\n",
       "        <th>ratios</th>\n",
       "    </tr>\n",
       "    <tr>\n",
       "        <td>British Indian Ocean Territory</td>\n",
       "        <td>905.67</td>\n",
       "    </tr>\n",
       "    <tr>\n",
       "        <td>Virgin Islands</td>\n",
       "        <td>4.52</td>\n",
       "    </tr>\n",
       "    <tr>\n",
       "        <td>Puerto Rico</td>\n",
       "        <td>0.55</td>\n",
       "    </tr>\n",
       "    <tr>\n",
       "        <td>Bahamas, The</td>\n",
       "        <td>0.39</td>\n",
       "    </tr>\n",
       "    <tr>\n",
       "        <td>Guinea-Bissau</td>\n",
       "        <td>0.28</td>\n",
       "    </tr>\n",
       "</table>"
      ],
      "text/plain": [
       "[('British Indian Ocean Territory', 905.67),\n",
       " ('Virgin Islands', 4.52),\n",
       " ('Puerto Rico', 0.55),\n",
       " ('Bahamas, The', 0.39),\n",
       " ('Guinea-Bissau', 0.28)]"
      ]
     },
     "execution_count": 12,
     "metadata": {},
     "output_type": "execute_result"
    }
   ],
   "source": [
    "%%sql\n",
    "SELECT \n",
    "    name AS countries, \n",
    "    ROUND(CAST(area_water AS Float)/CAST(area_land AS Float),2) AS ratios \n",
    "FROM facts \n",
    "ORDER BY ratios DESC \n",
    "LIMIT 5;"
   ]
  },
  {
   "cell_type": "markdown",
   "metadata": {},
   "source": [
    "> The above query reveals that the country British Indian Ocean \n",
    "> Territory has highest ratio of 905.67 of water to land followed \n",
    "> by Virgin Islands with 4.52"
   ]
  },
  {
   "cell_type": "markdown",
   "metadata": {
    "collapsed": true
   },
   "source": [
    "### Countries having more water than land"
   ]
  },
  {
   "cell_type": "code",
   "execution_count": 13,
   "metadata": {
    "collapsed": false
   },
   "outputs": [
    {
     "name": "stdout",
     "output_type": "stream",
     "text": [
      "Done.\n"
     ]
    },
    {
     "data": {
      "text/html": [
       "<table>\n",
       "    <tr>\n",
       "        <th>countries</th>\n",
       "        <th>area_water</th>\n",
       "        <th>area_land</th>\n",
       "    </tr>\n",
       "    <tr>\n",
       "        <td>British Indian Ocean Territory</td>\n",
       "        <td>54340</td>\n",
       "        <td>60</td>\n",
       "    </tr>\n",
       "    <tr>\n",
       "        <td>Virgin Islands</td>\n",
       "        <td>1564</td>\n",
       "        <td>346</td>\n",
       "    </tr>\n",
       "</table>"
      ],
      "text/plain": [
       "[('British Indian Ocean Territory', 54340, 60), ('Virgin Islands', 1564, 346)]"
      ]
     },
     "execution_count": 13,
     "metadata": {},
     "output_type": "execute_result"
    }
   ],
   "source": [
    "%%sql\n",
    "SELECT \n",
    "    name AS countries, \n",
    "    area_water, \n",
    "    area_land \n",
    "FROM facts \n",
    "WHERE area_water > area_land;"
   ]
  },
  {
   "cell_type": "markdown",
   "metadata": {},
   "source": [
    "> The above query reveals more details to explain ratios 905.67 \n",
    "> and 4.52 of water to land for the countries British Indian \n",
    "> Ocean Territory and Virgin Islands respectively."
   ]
  },
  {
   "cell_type": "markdown",
   "metadata": {},
   "source": [
    "### Countries that will add the most people to their population next year 2016. (since the data is as of 2015 records)"
   ]
  },
  {
   "cell_type": "code",
   "execution_count": 14,
   "metadata": {
    "collapsed": false
   },
   "outputs": [
    {
     "name": "stdout",
     "output_type": "stream",
     "text": [
      "Done.\n"
     ]
    },
    {
     "data": {
      "text/html": [
       "<table>\n",
       "    <tr>\n",
       "        <th>countries</th>\n",
       "        <th>pop_grwth</th>\n",
       "    </tr>\n",
       "    <tr>\n",
       "        <td>South Sudan</td>\n",
       "        <td>4.02</td>\n",
       "    </tr>\n",
       "    <tr>\n",
       "        <td>Malawi</td>\n",
       "        <td>3.32</td>\n",
       "    </tr>\n",
       "    <tr>\n",
       "        <td>Burundi</td>\n",
       "        <td>3.28</td>\n",
       "    </tr>\n",
       "    <tr>\n",
       "        <td>Niger</td>\n",
       "        <td>3.25</td>\n",
       "    </tr>\n",
       "    <tr>\n",
       "        <td>Uganda</td>\n",
       "        <td>3.24</td>\n",
       "    </tr>\n",
       "    <tr>\n",
       "        <td>Qatar</td>\n",
       "        <td>3.07</td>\n",
       "    </tr>\n",
       "    <tr>\n",
       "        <td>Burkina Faso</td>\n",
       "        <td>3.03</td>\n",
       "    </tr>\n",
       "    <tr>\n",
       "        <td>Mali</td>\n",
       "        <td>2.98</td>\n",
       "    </tr>\n",
       "    <tr>\n",
       "        <td>Cook Islands</td>\n",
       "        <td>2.95</td>\n",
       "    </tr>\n",
       "    <tr>\n",
       "        <td>Iraq</td>\n",
       "        <td>2.93</td>\n",
       "    </tr>\n",
       "</table>"
      ],
      "text/plain": [
       "[('South Sudan', 4.02),\n",
       " ('Malawi', 3.32),\n",
       " ('Burundi', 3.28),\n",
       " ('Niger', 3.25),\n",
       " ('Uganda', 3.24),\n",
       " ('Qatar', 3.07),\n",
       " ('Burkina Faso', 3.03),\n",
       " ('Mali', 2.98),\n",
       " ('Cook Islands', 2.95),\n",
       " ('Iraq', 2.93)]"
      ]
     },
     "execution_count": 14,
     "metadata": {},
     "output_type": "execute_result"
    }
   ],
   "source": [
    "%%sql\n",
    "SELECT \n",
    "    name AS countries, \n",
    "    population_growth AS pop_grwth \n",
    "FROM facts \n",
    "ORDER BY pop_grwth \n",
    "DESC LIMIT 10;"
   ]
  },
  {
   "cell_type": "markdown",
   "metadata": {},
   "source": [
    "> Through above query we collected minimum 10 countries with \n",
    "> their respective population growth rate, and found South Sudan \n",
    "> is leading with highest population growth rate of 4.02.\n",
    ">\n",
    "> As mentioned this is for 2016 as per 2015 record. However there \n",
    "> were some drastic changes seen from 2018 to 2019 in the \n",
    "> population growth rate, and hence based on population growth \n",
    "> rate records in our table as of 2015, we won't be able to find \n",
    "> the countries who have and will add most people in present year \n",
    "> 2020. "
   ]
  },
  {
   "cell_type": "markdown",
   "metadata": {
    "collapsed": true
   },
   "source": [
    "### Countries having higher death rate than birth rate"
   ]
  },
  {
   "cell_type": "code",
   "execution_count": 15,
   "metadata": {
    "collapsed": false
   },
   "outputs": [
    {
     "name": "stdout",
     "output_type": "stream",
     "text": [
      "Done.\n"
     ]
    },
    {
     "data": {
      "text/html": [
       "<table>\n",
       "    <tr>\n",
       "        <th>countries</th>\n",
       "        <th>death_rate</th>\n",
       "        <th>birth_rate</th>\n",
       "        <th>diff</th>\n",
       "    </tr>\n",
       "    <tr>\n",
       "        <td>Bulgaria</td>\n",
       "        <td>14.44</td>\n",
       "        <td>8.92</td>\n",
       "        <td>5.52</td>\n",
       "    </tr>\n",
       "    <tr>\n",
       "        <td>Serbia</td>\n",
       "        <td>13.66</td>\n",
       "        <td>9.08</td>\n",
       "        <td>4.58</td>\n",
       "    </tr>\n",
       "    <tr>\n",
       "        <td>Latvia</td>\n",
       "        <td>14.31</td>\n",
       "        <td>10.0</td>\n",
       "        <td>4.31</td>\n",
       "    </tr>\n",
       "    <tr>\n",
       "        <td>Lithuania</td>\n",
       "        <td>14.27</td>\n",
       "        <td>10.1</td>\n",
       "        <td>4.17</td>\n",
       "    </tr>\n",
       "    <tr>\n",
       "        <td>Ukraine</td>\n",
       "        <td>14.46</td>\n",
       "        <td>10.72</td>\n",
       "        <td>3.74</td>\n",
       "    </tr>\n",
       "    <tr>\n",
       "        <td>Hungary</td>\n",
       "        <td>12.73</td>\n",
       "        <td>9.16</td>\n",
       "        <td>3.57</td>\n",
       "    </tr>\n",
       "    <tr>\n",
       "        <td>Germany</td>\n",
       "        <td>11.42</td>\n",
       "        <td>8.47</td>\n",
       "        <td>2.95</td>\n",
       "    </tr>\n",
       "    <tr>\n",
       "        <td>Slovenia</td>\n",
       "        <td>11.37</td>\n",
       "        <td>8.42</td>\n",
       "        <td>2.95</td>\n",
       "    </tr>\n",
       "    <tr>\n",
       "        <td>Romania</td>\n",
       "        <td>11.9</td>\n",
       "        <td>9.14</td>\n",
       "        <td>2.76</td>\n",
       "    </tr>\n",
       "    <tr>\n",
       "        <td>Croatia</td>\n",
       "        <td>12.18</td>\n",
       "        <td>9.45</td>\n",
       "        <td>2.73</td>\n",
       "    </tr>\n",
       "    <tr>\n",
       "        <td>Belarus</td>\n",
       "        <td>13.36</td>\n",
       "        <td>10.7</td>\n",
       "        <td>2.66</td>\n",
       "    </tr>\n",
       "    <tr>\n",
       "        <td>Monaco</td>\n",
       "        <td>9.24</td>\n",
       "        <td>6.65</td>\n",
       "        <td>2.59</td>\n",
       "    </tr>\n",
       "    <tr>\n",
       "        <td>Greece</td>\n",
       "        <td>11.09</td>\n",
       "        <td>8.66</td>\n",
       "        <td>2.43</td>\n",
       "    </tr>\n",
       "    <tr>\n",
       "        <td>Saint Pierre and Miquelon</td>\n",
       "        <td>9.72</td>\n",
       "        <td>7.42</td>\n",
       "        <td>2.3</td>\n",
       "    </tr>\n",
       "    <tr>\n",
       "        <td>Russia</td>\n",
       "        <td>13.69</td>\n",
       "        <td>11.6</td>\n",
       "        <td>2.09</td>\n",
       "    </tr>\n",
       "    <tr>\n",
       "        <td>Estonia</td>\n",
       "        <td>12.4</td>\n",
       "        <td>10.51</td>\n",
       "        <td>1.89</td>\n",
       "    </tr>\n",
       "    <tr>\n",
       "        <td>Portugal</td>\n",
       "        <td>11.02</td>\n",
       "        <td>9.27</td>\n",
       "        <td>1.75</td>\n",
       "    </tr>\n",
       "    <tr>\n",
       "        <td>Japan</td>\n",
       "        <td>9.51</td>\n",
       "        <td>7.93</td>\n",
       "        <td>1.58</td>\n",
       "    </tr>\n",
       "    <tr>\n",
       "        <td>Italy</td>\n",
       "        <td>10.19</td>\n",
       "        <td>8.74</td>\n",
       "        <td>1.45</td>\n",
       "    </tr>\n",
       "    <tr>\n",
       "        <td>Bosnia and Herzegovina</td>\n",
       "        <td>9.75</td>\n",
       "        <td>8.87</td>\n",
       "        <td>0.88</td>\n",
       "    </tr>\n",
       "    <tr>\n",
       "        <td>Czech Republic</td>\n",
       "        <td>10.34</td>\n",
       "        <td>9.63</td>\n",
       "        <td>0.71</td>\n",
       "    </tr>\n",
       "    <tr>\n",
       "        <td>Moldova</td>\n",
       "        <td>12.59</td>\n",
       "        <td>12.0</td>\n",
       "        <td>0.59</td>\n",
       "    </tr>\n",
       "    <tr>\n",
       "        <td>Poland</td>\n",
       "        <td>10.19</td>\n",
       "        <td>9.74</td>\n",
       "        <td>0.45</td>\n",
       "    </tr>\n",
       "    <tr>\n",
       "        <td>Austria</td>\n",
       "        <td>9.42</td>\n",
       "        <td>9.41</td>\n",
       "        <td>0.01</td>\n",
       "    </tr>\n",
       "</table>"
      ],
      "text/plain": [
       "[('Bulgaria', 14.44, 8.92, 5.52),\n",
       " ('Serbia', 13.66, 9.08, 4.58),\n",
       " ('Latvia', 14.31, 10.0, 4.31),\n",
       " ('Lithuania', 14.27, 10.1, 4.17),\n",
       " ('Ukraine', 14.46, 10.72, 3.74),\n",
       " ('Hungary', 12.73, 9.16, 3.57),\n",
       " ('Germany', 11.42, 8.47, 2.95),\n",
       " ('Slovenia', 11.37, 8.42, 2.95),\n",
       " ('Romania', 11.9, 9.14, 2.76),\n",
       " ('Croatia', 12.18, 9.45, 2.73),\n",
       " ('Belarus', 13.36, 10.7, 2.66),\n",
       " ('Monaco', 9.24, 6.65, 2.59),\n",
       " ('Greece', 11.09, 8.66, 2.43),\n",
       " ('Saint Pierre and Miquelon', 9.72, 7.42, 2.3),\n",
       " ('Russia', 13.69, 11.6, 2.09),\n",
       " ('Estonia', 12.4, 10.51, 1.89),\n",
       " ('Portugal', 11.02, 9.27, 1.75),\n",
       " ('Japan', 9.51, 7.93, 1.58),\n",
       " ('Italy', 10.19, 8.74, 1.45),\n",
       " ('Bosnia and Herzegovina', 9.75, 8.87, 0.88),\n",
       " ('Czech Republic', 10.34, 9.63, 0.71),\n",
       " ('Moldova', 12.59, 12.0, 0.59),\n",
       " ('Poland', 10.19, 9.74, 0.45),\n",
       " ('Austria', 9.42, 9.41, 0.01)]"
      ]
     },
     "execution_count": 15,
     "metadata": {},
     "output_type": "execute_result"
    }
   ],
   "source": [
    "%%sql\n",
    "SELECT \n",
    "    name AS countries,\n",
    "    death_rate, \n",
    "    birth_rate,\n",
    "    ROUND((death_rate - birth_rate),2) AS diff\n",
    "FROM facts \n",
    "WHERE death_rate > birth_rate\n",
    "ORDER BY diff DESC;"
   ]
  },
  {
   "cell_type": "markdown",
   "metadata": {},
   "source": [
    "> The result of our query above shows that Bulgaria is the \n",
    "> country which has higher death rate than birth rate."
   ]
  }
 ],
 "metadata": {
  "kernelspec": {
   "display_name": "Python 3",
   "language": "python",
   "name": "python3"
  },
  "language_info": {
   "codemirror_mode": {
    "name": "ipython",
    "version": 3
   },
   "file_extension": ".py",
   "mimetype": "text/x-python",
   "name": "python",
   "nbconvert_exporter": "python",
   "pygments_lexer": "ipython3",
   "version": "3.4.3"
  }
 },
 "nbformat": 4,
 "nbformat_minor": 2
}
