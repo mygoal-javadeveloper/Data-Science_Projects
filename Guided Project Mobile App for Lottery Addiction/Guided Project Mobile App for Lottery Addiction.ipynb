{
 "cells": [
  {
   "cell_type": "markdown",
   "metadata": {},
   "source": [
    "# Mobile App for Lottery Addiction\n",
    "\n",
    "**In this project will implement Probability to contribute to the development of a mobile app that is meant to help lottery \n",
    "addicts better estimate their chances of winning.**\n",
    "\n",
    "> Many people start playing the lottery for fun, but for some this activity turns into a habit which eventually escalates into \n",
    "> addiction. Like other compulsive gamblers, lottery addicts soon begin spending from their savings and loans, they start to \n",
    "> accumulate debts, and eventually engage in desperate behaviors like theft.\n",
    "\n",
    "> A medical institute that aims to prevent and treat gambling addictions wants to build a dedicated mobile app to help lottery \n",
    "> addicts better estimate their chances of winning. The institute has a team of engineers that will build the app, but they \n",
    "> need us to create the logical core of the app and calculate probabilities.\n",
    "\n",
    "> For the first version of the app, they want us to focus on the [6/49 lottery](<https://en.wikipedia.org/wiki/Lotto_6/49>) and \n",
    "> build functions that enable users to answer questions like:\n",
    "\n",
    "> * What is the probability of winning the big prize with a single ticket?\n",
    "> * What is the probability of winning the big prize if we play 40 different tickets (or any other number)?\n",
    "> * What is the probability of having at least five (or four, or three, or two) winning numbers on a single ticket?\n",
    "\n",
    "> The institute also wants us to consider historical data coming from the national 6/49 lottery game in Canada. The [data set](<https://www.kaggle.com/datascienceai/lottery-dataset>) has data for 3,665 drawings, dating from 1982 to 2018.\n",
    "\n",
    "> The scenario we're following throughout this project is fictional — the main purpose is to applying probability, permutations \n",
    "> and combinations concepts in the setting that simulates a real-world scenario.\n",
    "\n",
    "> Thus **our goal in this project is to write code that can enable users to answer probability questions about playing the \n",
    "> lottery.** "
   ]
  },
  {
   "cell_type": "markdown",
   "metadata": {},
   "source": [
    "### Core Functions\n",
    "\n",
    "> Throughout this project, we'll need to calculate repeatedly probabilities and combinations. As a consequence, we'll start by \n",
    "> writing two functions that we'll use often:\n",
    "\n",
    "> * factorial() - A function that calculates factorials and\n",
    "> * combinations() - A function that calculates combinations."
   ]
  },
  {
   "cell_type": "code",
   "execution_count": 1,
   "metadata": {},
   "outputs": [],
   "source": [
    "def factorial(n):\n",
    "    if n == 0:\n",
    "        return 1\n",
    "    else:\n",
    "        return n*factorial(n-1)"
   ]
  },
  {
   "cell_type": "markdown",
   "metadata": {},
   "source": [
    "> In the 6/49 lottery, six numbers are drawn from a set of 49 numbers that range from 1 to 49. The drawing is done without \n",
    "> replacement, which means once a number is drawn, it's not put back in the set.\n",
    "\n",
    "> To find the number of combinations when we're sampling without replacement and taking only k objects from a group of n \n",
    "> objects, we can use the formula:\n",
    "\n",
    "> ```n! / k!(n-k)!```"
   ]
  },
  {
   "cell_type": "code",
   "execution_count": 2,
   "metadata": {},
   "outputs": [],
   "source": [
    "def combinations(n, k):\n",
    "    return factorial(n) / (factorial(k) * factorial(n-k))"
   ]
  },
  {
   "cell_type": "markdown",
   "metadata": {},
   "source": [
    "> Above we wrote factorial() and combinations(), two core functions that we're going to need repeatedly in this project. Now we \n",
    "> need to write a function that calculates the probability of winning the big prize.\n",
    "\n",
    "> As discuss above in the 6/49 lottery, six numbers are drawn from a set of 49 numbers that range from 1 to 49. Now a player \n",
    "> wins the big prize if the six numbers on their tickets match all the six numbers drawn. If a player has a ticket with the \n",
    "> numbers {13, 22, 24, 27, 42, 44}, he only wins the big prize if the numbers drawn are {13, 22, 24, 27, 42, 44}. But if any \n",
    "> one number differs, he doesn't win.\n",
    "\n",
    "> For the first version of the app, we want players to be able to calculate the probability of winning the big prize with the \n",
    "> various numbers they play on a single ticket (for each ticket a player chooses six numbers out of 49). So, we'll start by \n",
    "> building a function that calculates the probability of winning the big prize for any given single ticket only.\n",
    "\n",
    "> We have discussed with the engineering team of the medical institute, and they told us we need to be aware of the following \n",
    "> details when we write the function:\n",
    "\n",
    "> * Inside the app, the user inputs six different numbers from 1 to 49. \n",
    "> * Under the hood, the six numbers will come as a Python list, which will serve as the single input to our function. \n",
    "> * The engineering team wants the function to print the probability value in a friendly way — in a way that any lay people \n",
    "> without any probability training are able to understand.\n",
    "\n",
    "### So let's write this function that calculates the probability of winning the big prize for any given single ticket only."
   ]
  },
  {
   "cell_type": "code",
   "execution_count": 3,
   "metadata": {},
   "outputs": [],
   "source": [
    "def one_ticket_probability(lotterynum):\n",
    "    #all possible outcomes from the set of 49 numbers that range from 1 to 49.\n",
    "    total_possible_outcomes = combinations(49 , 6)\n",
    "    \n",
    "    #calculating the probability for lotternum outcome as winning number.\n",
    "    \n",
    "    '''\n",
    "    as the list of argument passed in lotterynum parameter of this method is just one combination, which means the number  \n",
    "    of successful outcomes is 1 for it (that is to say in total_possible_outcomes we calculated above, lotterynum\n",
    "    will surely be one of combination from all combinations in total_possible_outcomes, thus success rate of lotterynum is 1 \n",
    "    in the combination)\n",
    "    \n",
    "    '''\n",
    "    #to know the probability of the lotterynum to have winning \n",
    "    #chance from all combinations of 49 numbers (1-49) we need to\n",
    "    #divide success rate of lotterynum by the total number of possible \n",
    "    #outcomes\n",
    "    probability_lotterynum = 1/total_possible_outcomes\n",
    "    \n",
    "    #calculate the percentage of probability\n",
    "    percentage_probabilitylotterynum = probability_lotterynum * 100\n",
    "    \n",
    "    #user-friendly message for lay person to understand the probability of winning chance of the lotterynum\n",
    "    print('Your chance to win the big prize with the lottery number {} is just {:.7f}% only.'.format(lotterynum, \n",
    "                                                                                       percentage_probabilitylotterynum))\n",
    "    "
   ]
  },
  {
   "cell_type": "code",
   "execution_count": 4,
   "metadata": {},
   "outputs": [
    {
     "name": "stdout",
     "output_type": "stream",
     "text": [
      "Your chance to win the big prize with the lottery number [12, 5, 21, 10, 13, 18] is just 0.0000072% only.\n"
     ]
    }
   ],
   "source": [
    "testcases1 = [12, 5, 21, 10, 13, 18]\n",
    "one_ticket_probability(testcases1)"
   ]
  },
  {
   "cell_type": "code",
   "execution_count": 5,
   "metadata": {},
   "outputs": [
    {
     "name": "stdout",
     "output_type": "stream",
     "text": [
      "Your chance to win the big prize with the lottery number [12, 5, 21, 10, 13, 18] is just 0.0000072% only.\n"
     ]
    }
   ],
   "source": [
    "testcases2 = [1, 33, 26, 7, 19, 2]\n",
    "one_ticket_probability(testcases1)"
   ]
  },
  {
   "cell_type": "markdown",
   "metadata": {},
   "source": [
    "> Above we wrote a function that can tell users what is the probability of winning the big prize with his lottery number. \n",
    "\n",
    "> For the first version of the app, however, users should also be able to compare their lottery number against the historical \n",
    "> lottery data in Canada to find whether this lottery number of his was ever been won previously.\n",
    "\n",
    "> So let's explore the historical data coming from the Canada 6/49 lottery. The dataset can be downloaded from [Kaggle](<https://www.kaggle.com/datascienceai/lottery-dataset>) website."
   ]
  },
  {
   "cell_type": "markdown",
   "metadata": {},
   "source": [
    "### Exploring the historical data coming from the Canada 6/49 lottery."
   ]
  },
  {
   "cell_type": "markdown",
   "metadata": {},
   "source": [
    "##### First let's get familiar with its structure."
   ]
  },
  {
   "cell_type": "code",
   "execution_count": 6,
   "metadata": {},
   "outputs": [],
   "source": [
    "#reading the dataset\n",
    "import pandas as pd\n",
    "lotterydraw_data = pd.read_csv('649.csv')"
   ]
  },
  {
   "cell_type": "code",
   "execution_count": 7,
   "metadata": {},
   "outputs": [
    {
     "data": {
      "text/plain": [
       "(3665, 11)"
      ]
     },
     "execution_count": 7,
     "metadata": {},
     "output_type": "execute_result"
    }
   ],
   "source": [
    "lotterydraw_data.shape"
   ]
  },
  {
   "cell_type": "code",
   "execution_count": 8,
   "metadata": {},
   "outputs": [
    {
     "data": {
      "text/html": [
       "<div>\n",
       "<style scoped>\n",
       "    .dataframe tbody tr th:only-of-type {\n",
       "        vertical-align: middle;\n",
       "    }\n",
       "\n",
       "    .dataframe tbody tr th {\n",
       "        vertical-align: top;\n",
       "    }\n",
       "\n",
       "    .dataframe thead th {\n",
       "        text-align: right;\n",
       "    }\n",
       "</style>\n",
       "<table border=\"1\" class=\"dataframe\">\n",
       "  <thead>\n",
       "    <tr style=\"text-align: right;\">\n",
       "      <th></th>\n",
       "      <th>PRODUCT</th>\n",
       "      <th>DRAW NUMBER</th>\n",
       "      <th>SEQUENCE NUMBER</th>\n",
       "      <th>DRAW DATE</th>\n",
       "      <th>NUMBER DRAWN 1</th>\n",
       "      <th>NUMBER DRAWN 2</th>\n",
       "      <th>NUMBER DRAWN 3</th>\n",
       "      <th>NUMBER DRAWN 4</th>\n",
       "      <th>NUMBER DRAWN 5</th>\n",
       "      <th>NUMBER DRAWN 6</th>\n",
       "      <th>BONUS NUMBER</th>\n",
       "    </tr>\n",
       "  </thead>\n",
       "  <tbody>\n",
       "    <tr>\n",
       "      <td>0</td>\n",
       "      <td>649</td>\n",
       "      <td>1</td>\n",
       "      <td>0</td>\n",
       "      <td>6/12/1982</td>\n",
       "      <td>3</td>\n",
       "      <td>11</td>\n",
       "      <td>12</td>\n",
       "      <td>14</td>\n",
       "      <td>41</td>\n",
       "      <td>43</td>\n",
       "      <td>13</td>\n",
       "    </tr>\n",
       "    <tr>\n",
       "      <td>1</td>\n",
       "      <td>649</td>\n",
       "      <td>2</td>\n",
       "      <td>0</td>\n",
       "      <td>6/19/1982</td>\n",
       "      <td>8</td>\n",
       "      <td>33</td>\n",
       "      <td>36</td>\n",
       "      <td>37</td>\n",
       "      <td>39</td>\n",
       "      <td>41</td>\n",
       "      <td>9</td>\n",
       "    </tr>\n",
       "    <tr>\n",
       "      <td>2</td>\n",
       "      <td>649</td>\n",
       "      <td>3</td>\n",
       "      <td>0</td>\n",
       "      <td>6/26/1982</td>\n",
       "      <td>1</td>\n",
       "      <td>6</td>\n",
       "      <td>23</td>\n",
       "      <td>24</td>\n",
       "      <td>27</td>\n",
       "      <td>39</td>\n",
       "      <td>34</td>\n",
       "    </tr>\n",
       "    <tr>\n",
       "      <td>3</td>\n",
       "      <td>649</td>\n",
       "      <td>4</td>\n",
       "      <td>0</td>\n",
       "      <td>7/3/1982</td>\n",
       "      <td>3</td>\n",
       "      <td>9</td>\n",
       "      <td>10</td>\n",
       "      <td>13</td>\n",
       "      <td>20</td>\n",
       "      <td>43</td>\n",
       "      <td>34</td>\n",
       "    </tr>\n",
       "    <tr>\n",
       "      <td>4</td>\n",
       "      <td>649</td>\n",
       "      <td>5</td>\n",
       "      <td>0</td>\n",
       "      <td>7/10/1982</td>\n",
       "      <td>5</td>\n",
       "      <td>14</td>\n",
       "      <td>21</td>\n",
       "      <td>31</td>\n",
       "      <td>34</td>\n",
       "      <td>47</td>\n",
       "      <td>45</td>\n",
       "    </tr>\n",
       "  </tbody>\n",
       "</table>\n",
       "</div>"
      ],
      "text/plain": [
       "   PRODUCT  DRAW NUMBER  SEQUENCE NUMBER  DRAW DATE  NUMBER DRAWN 1  \\\n",
       "0      649            1                0  6/12/1982               3   \n",
       "1      649            2                0  6/19/1982               8   \n",
       "2      649            3                0  6/26/1982               1   \n",
       "3      649            4                0   7/3/1982               3   \n",
       "4      649            5                0  7/10/1982               5   \n",
       "\n",
       "   NUMBER DRAWN 2  NUMBER DRAWN 3  NUMBER DRAWN 4  NUMBER DRAWN 5  \\\n",
       "0              11              12              14              41   \n",
       "1              33              36              37              39   \n",
       "2               6              23              24              27   \n",
       "3               9              10              13              20   \n",
       "4              14              21              31              34   \n",
       "\n",
       "   NUMBER DRAWN 6  BONUS NUMBER  \n",
       "0              43            13  \n",
       "1              41             9  \n",
       "2              39            34  \n",
       "3              43            34  \n",
       "4              47            45  "
      ]
     },
     "execution_count": 8,
     "metadata": {},
     "output_type": "execute_result"
    }
   ],
   "source": [
    "lotterydraw_data.head()"
   ]
  },
  {
   "cell_type": "code",
   "execution_count": 9,
   "metadata": {},
   "outputs": [
    {
     "data": {
      "text/html": [
       "<div>\n",
       "<style scoped>\n",
       "    .dataframe tbody tr th:only-of-type {\n",
       "        vertical-align: middle;\n",
       "    }\n",
       "\n",
       "    .dataframe tbody tr th {\n",
       "        vertical-align: top;\n",
       "    }\n",
       "\n",
       "    .dataframe thead th {\n",
       "        text-align: right;\n",
       "    }\n",
       "</style>\n",
       "<table border=\"1\" class=\"dataframe\">\n",
       "  <thead>\n",
       "    <tr style=\"text-align: right;\">\n",
       "      <th></th>\n",
       "      <th>PRODUCT</th>\n",
       "      <th>DRAW NUMBER</th>\n",
       "      <th>SEQUENCE NUMBER</th>\n",
       "      <th>DRAW DATE</th>\n",
       "      <th>NUMBER DRAWN 1</th>\n",
       "      <th>NUMBER DRAWN 2</th>\n",
       "      <th>NUMBER DRAWN 3</th>\n",
       "      <th>NUMBER DRAWN 4</th>\n",
       "      <th>NUMBER DRAWN 5</th>\n",
       "      <th>NUMBER DRAWN 6</th>\n",
       "      <th>BONUS NUMBER</th>\n",
       "    </tr>\n",
       "  </thead>\n",
       "  <tbody>\n",
       "    <tr>\n",
       "      <td>3660</td>\n",
       "      <td>649</td>\n",
       "      <td>3587</td>\n",
       "      <td>0</td>\n",
       "      <td>6/6/2018</td>\n",
       "      <td>10</td>\n",
       "      <td>15</td>\n",
       "      <td>23</td>\n",
       "      <td>38</td>\n",
       "      <td>40</td>\n",
       "      <td>41</td>\n",
       "      <td>35</td>\n",
       "    </tr>\n",
       "    <tr>\n",
       "      <td>3661</td>\n",
       "      <td>649</td>\n",
       "      <td>3588</td>\n",
       "      <td>0</td>\n",
       "      <td>6/9/2018</td>\n",
       "      <td>19</td>\n",
       "      <td>25</td>\n",
       "      <td>31</td>\n",
       "      <td>36</td>\n",
       "      <td>46</td>\n",
       "      <td>47</td>\n",
       "      <td>26</td>\n",
       "    </tr>\n",
       "    <tr>\n",
       "      <td>3662</td>\n",
       "      <td>649</td>\n",
       "      <td>3589</td>\n",
       "      <td>0</td>\n",
       "      <td>6/13/2018</td>\n",
       "      <td>6</td>\n",
       "      <td>22</td>\n",
       "      <td>24</td>\n",
       "      <td>31</td>\n",
       "      <td>32</td>\n",
       "      <td>34</td>\n",
       "      <td>16</td>\n",
       "    </tr>\n",
       "    <tr>\n",
       "      <td>3663</td>\n",
       "      <td>649</td>\n",
       "      <td>3590</td>\n",
       "      <td>0</td>\n",
       "      <td>6/16/2018</td>\n",
       "      <td>2</td>\n",
       "      <td>15</td>\n",
       "      <td>21</td>\n",
       "      <td>31</td>\n",
       "      <td>38</td>\n",
       "      <td>49</td>\n",
       "      <td>8</td>\n",
       "    </tr>\n",
       "    <tr>\n",
       "      <td>3664</td>\n",
       "      <td>649</td>\n",
       "      <td>3591</td>\n",
       "      <td>0</td>\n",
       "      <td>6/20/2018</td>\n",
       "      <td>14</td>\n",
       "      <td>24</td>\n",
       "      <td>31</td>\n",
       "      <td>35</td>\n",
       "      <td>37</td>\n",
       "      <td>48</td>\n",
       "      <td>17</td>\n",
       "    </tr>\n",
       "  </tbody>\n",
       "</table>\n",
       "</div>"
      ],
      "text/plain": [
       "      PRODUCT  DRAW NUMBER  SEQUENCE NUMBER  DRAW DATE  NUMBER DRAWN 1  \\\n",
       "3660      649         3587                0   6/6/2018              10   \n",
       "3661      649         3588                0   6/9/2018              19   \n",
       "3662      649         3589                0  6/13/2018               6   \n",
       "3663      649         3590                0  6/16/2018               2   \n",
       "3664      649         3591                0  6/20/2018              14   \n",
       "\n",
       "      NUMBER DRAWN 2  NUMBER DRAWN 3  NUMBER DRAWN 4  NUMBER DRAWN 5  \\\n",
       "3660              15              23              38              40   \n",
       "3661              25              31              36              46   \n",
       "3662              22              24              31              32   \n",
       "3663              15              21              31              38   \n",
       "3664              24              31              35              37   \n",
       "\n",
       "      NUMBER DRAWN 6  BONUS NUMBER  \n",
       "3660              41            35  \n",
       "3661              47            26  \n",
       "3662              34            16  \n",
       "3663              49             8  \n",
       "3664              48            17  "
      ]
     },
     "execution_count": 9,
     "metadata": {},
     "output_type": "execute_result"
    }
   ],
   "source": [
    "lotterydraw_data.tail()"
   ]
  },
  {
   "cell_type": "markdown",
   "metadata": {},
   "source": [
    "> The dataset contains historical data for 3,665 drawings (each row shows data for a single drawing), dating from 1982 to \n",
    "> 2018.\n",
    "\n",
    ">For each drawing, we can find the six numbers drawn in the following six columns:\n",
    "> * NUMBER DRAWN 1\n",
    "> * NUMBER DRAWN 2\n",
    "> * NUMBER DRAWN 3\n",
    "> * NUMBER DRAWN 4\n",
    "> * NUMBER DRAWN 5\n",
    "> * NUMBER DRAWN 6"
   ]
  },
  {
   "cell_type": "markdown",
   "metadata": {},
   "source": [
    "> We are now going to write a function that will enable users to compare their ticket against the historical lottery data in \n",
    "> Canada and determine whether it was previously ever have been won.\n",
    "\n",
    "> The engineering team told us that we need to be aware of the following details which needs to be implemented in our function:\n",
    "\n",
    "> * Inside the app, the user inputs six different numbers from 1 to 49.\n",
    "> * Under the hood, the six numbers will come as a Python list and serve as an input to our function.\n",
    "> * The engineering team wants us to write a function that prints:\n",
    ">     * the number of times the combination selected occurred in \n",
    ">      the Canada dataset; and \n",
    ">     * the probability of winning the big prize in the next \n",
    ">      drawing with that combination."
   ]
  },
  {
   "cell_type": "markdown",
   "metadata": {},
   "source": [
    "##### Now let us find the occurence of ticket/lottery number in the historical Canada dataset "
   ]
  },
  {
   "cell_type": "code",
   "execution_count": 10,
   "metadata": {},
   "outputs": [
    {
     "data": {
      "text/plain": [
       "0    {3, 41, 11, 12, 43, 14}\n",
       "1    {33, 36, 37, 39, 8, 41}\n",
       "2     {1, 6, 39, 23, 24, 27}\n",
       "3     {3, 9, 10, 43, 13, 20}\n",
       "4    {34, 5, 14, 47, 21, 31}\n",
       "dtype: object"
      ]
     },
     "execution_count": 10,
     "metadata": {},
     "output_type": "execute_result"
    }
   ],
   "source": [
    "#Extract all the winning six numbers from the historical dataset as Python sets\n",
    "def extract_numbers(dfrow):\n",
    "    df_lotterynum = set(dfrow[4:10])\n",
    "    return df_lotterynum\n",
    "\n",
    "winning_lotterynum = lotterydraw_data.apply(extract_numbers, axis =1)\n",
    "winning_lotterynum.head()"
   ]
  },
  {
   "cell_type": "code",
   "execution_count": 11,
   "metadata": {},
   "outputs": [],
   "source": [
    "def check_historical_occurence(lotterynum, winning_lotterynum):\n",
    "    '''\n",
    "    lotterynum: a Python list\n",
    "    winning_lotterynum: a pandas Series having each datapoints as set\n",
    "    '''\n",
    "    #converting lotterynum as set\n",
    "    lotterynum = set(lotterynum)\n",
    "    #Comparing the lotterynum set against the pandas Series winning_lotterynum that contains the sets with the winning numbers \n",
    "    #to find the number of matches. The output is a Series of Boolean values that will be returned as a result of the comparison. \n",
    "    #(the value will be True each time there'll be a match).\n",
    "    check_occurrence = winning_lotterynum == lotterynum\n",
    "    findoccurrence = check_occurrence.sum()\n",
    "    \n",
    "    if findoccurrence == 0:\n",
    "        print(\"The combination {} has never occured.\\\n",
    "              \\nThis doesn't guarantee that it is more likely to occur now.\\\n",
    "              \\nYour chances to win the big prize in the next drawing using the combination {} is still 0.0000072% only.\"\n",
    "              .format(lotterynum, lotterynum))\n",
    "        \n",
    "    else:\n",
    "        print(\"The combination {} has occured {} number of times in the past.\\\n",
    "              \\nBut your chances to win the big prize in the next drawing using the combination {} is still 0.0000072% only.\"\n",
    "              .format(lotterynum, findoccurrence, lotterynum))"
   ]
  },
  {
   "cell_type": "code",
   "execution_count": 12,
   "metadata": {},
   "outputs": [
    {
     "name": "stdout",
     "output_type": "stream",
     "text": [
      "The combination {5, 10, 12, 13, 18, 21} has never occured.              \n",
      "This doesn't guarantee that it is more likely to occur now.              \n",
      "Your chances to win the big prize in the next drawing using the combination {5, 10, 12, 13, 18, 21} is still 0.0000072% only.\n"
     ]
    }
   ],
   "source": [
    "check_historical_occurence(testcases1, winning_lotterynum)"
   ]
  },
  {
   "cell_type": "code",
   "execution_count": 13,
   "metadata": {},
   "outputs": [
    {
     "name": "stdout",
     "output_type": "stream",
     "text": [
      "The combination {1, 33, 2, 7, 19, 26} has never occured.              \n",
      "This doesn't guarantee that it is more likely to occur now.              \n",
      "Your chances to win the big prize in the next drawing using the combination {1, 33, 2, 7, 19, 26} is still 0.0000072% only.\n"
     ]
    }
   ],
   "source": [
    "check_historical_occurence(testcases2, winning_lotterynum)"
   ]
  },
  {
   "cell_type": "markdown",
   "metadata": {},
   "source": [
    "> So far, we wrote two functions:\n",
    "\n",
    "> * one_ticket_probability() — calculates the probability of winning the big prize with a single ticket \n",
    "> * check_historical_occurrence() — checks whether a certain combination has occurred as winning number in the Canada lottery \n",
    "> dataset.\n",
    "\n",
    "> However, the lottery addicts usually play with more than one ticket on a single drawing, thinking that this might increase \n",
    "> their chances of winning significantly. Our purpose is to help them better estimate their chances of winning.\n",
    "\n",
    "> Now we are going to write a function that will allow the users to calculate the chances of winning for any number of \n",
    "> different tickets.\n",
    "\n",
    "> We've talked with the engineering team and they gave us the following information:\n",
    "\n",
    "> * The user will input the number of different tickets they want to play (without inputting the specific combinations they \n",
    "> intend to play).\n",
    "> * Our function will see an integer between 1 and 13,983,816 (the maximum number of different tickets).\n",
    "> * The function should print information about the probability of winning the big prize depending on the number of different \n",
    "> tickets played.\n",
    "\n",
    "> Let's now start writing this function."
   ]
  },
  {
   "cell_type": "markdown",
   "metadata": {},
   "source": [
    "### Function that prints the probability of winning the big prize depending on the number of different tickets played."
   ]
  },
  {
   "cell_type": "code",
   "execution_count": 14,
   "metadata": {},
   "outputs": [],
   "source": [
    "def multi_ticket_probability(num_tickets):\n",
    "    #all possible outcomes from the set of 49 numbers \n",
    "    #that range from 1 to 49.\n",
    "    total_possible_outcomes = combinations(49 , 6)\n",
    "    \n",
    "    #the number of successful outcomes is given by the number \n",
    "    #of tickets the user intends to play - num_tickets.\n",
    "    #Use the number of successful outcomes and the total number \n",
    "    #of possible outcomes to calculate the probability for the \n",
    "    #number of tickets inputted.\n",
    "    probability_numtickets = num_tickets / total_possible_outcomes\n",
    "    \n",
    "    #calculate the percentage of probability\n",
    "    percentage_probabilitynumtickets = probability_numtickets * 100\n",
    "    \n",
    "    #user-friendly message for lay person to understand the\n",
    "    #probability of winning chance based on the number of \n",
    "    #different tickets played.\n",
    "    if num_tickets == 1:\n",
    "        print(\"Your chances to win the big prize with one ticket is {:.6f}%.\"\n",
    "        .format(percentage_probabilitynumtickets))\n",
    "    else:   \n",
    "        print(\"Your chances to win the big prize with {:,} different tickets are {:.6f}%.\"\n",
    "              .format(num_tickets, percentage_probabilitynumtickets))"
   ]
  },
  {
   "cell_type": "code",
   "execution_count": 15,
   "metadata": {},
   "outputs": [
    {
     "name": "stdout",
     "output_type": "stream",
     "text": [
      "Your chances to win the big prize with one ticket is 0.000007%.\n",
      "\n",
      "Your chances to win the big prize with 10 different tickets are 0.000072%.\n",
      "\n",
      "Your chances to win the big prize with 100 different tickets are 0.000715%.\n",
      "\n",
      "Your chances to win the big prize with 10,000 different tickets are 0.071511%.\n",
      "\n",
      "Your chances to win the big prize with 1,000,000 different tickets are 7.151124%.\n",
      "\n",
      "Your chances to win the big prize with 6,991,908 different tickets are 50.000000%.\n",
      "\n",
      "Your chances to win the big prize with 13,983,816 different tickets are 100.000000%.\n",
      "\n"
     ]
    }
   ],
   "source": [
    "testcases = [1, 10, 100, 10000, 1000000, 6991908, 13983816]\n",
    "\n",
    "for cases in testcases:\n",
    "    multi_ticket_probability(cases)\n",
    "    print()"
   ]
  },
  {
   "cell_type": "markdown",
   "metadata": {},
   "source": [
    "> So far, we wrote three main functions:\n",
    "\n",
    "> * one_ticket_probability() — calculates the probability of winning the big prize with a single ticket\n",
    "> * check_historical_occurrence() — checks whether a certain combination has occurred as winning number in the Canada lottery \n",
    "> dataset\n",
    "> * multi_ticket_probability() — calculates the probability for any number of tickets between 1 and 13,983,816\n",
    "\n",
    "> Now we are going to write one more function to allow the users to calculate probabilities for two, three, four, or five \n",
    "> winning numbers.\n",
    "\n",
    "> For extra context, in most 6/49 lotteries there are smaller prizes if a player's ticket match two, three, four, or five of \n",
    "> the six numbers drawn. As a consequence, the users might be interested in knowing the probability of having two, three, four, \n",
    "> or five winning numbers.\n",
    "\n",
    "> These are the engineering details we'll need to be aware of:\n",
    "\n",
    "> * Inside the app, the user inputs:\n",
    ">     * six different numbers from 1 to 49; and\n",
    ">     * an integer between 2 and 5 that represents the number of winning numbers expected\n",
    "> * Our function prints information about the probability of having the inputted number of winning numbers.\n",
    "\n",
    "> How we'll be calculating the probability for having exactly five winning numbers?\n",
    "\n",
    "> First, we need to differentiate between these two probability questions:\n",
    "\n",
    "> * What is the probability of having exactly five winning numbers?\n",
    "> * What is the probability of having at least five winning numbers?\n",
    "\n",
    "> For our purposes here, we want to answer the first question.\n",
    "\n",
    "> For the sake of example, let's say a player chose these six numbers on a ticket: (1, 2, 3, 4 ,5 ,6). Out of these six \n",
    "> numbers, we can form six five-number combinations:\n",
    "\n",
    "> * (1, 2, 3, 4, 5)\n",
    "> * (1, 2, 3, 4, 6)\n",
    "> * (1, 2, 3, 5, 6)\n",
    "> * (1, 2, 4, 5, 6)\n",
    "> * (1, 3, 4, 5, 6)\n",
    "> * (2, 3, 4, 5, 6)\n",
    "\n",
    "> We can also find the total number of five-number combinations by calculating (\"6 choose 5\"):\n",
    "\n",
    "> 6! / 5!(6-5)! = 6\n",
    "\n",
    "> For each one of the six five-number combinations above, there are 44 possible successful outcomes in a lottery drawing. For \n",
    "> the combination (1, 2, 3, 4, 5), for instance, there are 44 lottery outcomes that would return a prize:\n",
    "\n",
    "> * (1, 2, 3, 4, 5, 6)\n",
    "> * (1, 2, 3, 4, 5, 7)\n",
    "> * ...\n",
    "> * (1, 2, 3, 4, 5, 30)\n",
    "> * (1, 2, 3, 4, 5, 31)\n",
    "> * ...\n",
    "> * (1, 2, 3, 4, 5, 49)\n",
    "\n",
    "> However, we need to leave out the outcome (1, 2, 3, 4, 5, 6) because we're only interested in outcomes that match exactly \n",
    "> five numbers, not at least five numbers. This means that for each of our six five-number combinations we have 43 possible \n",
    "> successful outcomes, not 44.\n",
    "\n",
    "> Since there are six five-number combinations and each combination corresponds to 43 successful outcomes, we need to multiply \n",
    "> 6 by 43 to find the total number of successful outcomes:\n",
    "\n",
    "> 6 x 43 = 258\n",
    "\n",
    "> Since there are 258 successful outcomes and there are 13,983,816 total possible outcomes (the result of \"49 choose 6\"), the \n",
    "> probability of having exactly five winning numbers for a single lottery ticket is:\n",
    "\n",
    "> 258 / (49 choose 6) = 0.00001845\n",
    "\n",
    "> Now let's try to code the function. To calculate the probabilities, we tell the engineering team that the specific \n",
    "> combination on the ticket is irrelevant behind the scenes, and we only need the integer between 2 and 5 representing the \n",
    "> number of winning numbers expected."
   ]
  },
  {
   "cell_type": "markdown",
   "metadata": {},
   "source": [
    "### Function to allow the users to calculate probabilities for two, three, four, or five winning numbers"
   ]
  },
  {
   "cell_type": "code",
   "execution_count": 16,
   "metadata": {},
   "outputs": [],
   "source": [
    "def probability_less_6(n_winningnum):\n",
    "    \n",
    "    nwinningnum_combinations = combinations(6, n_winningnum)\n",
    "    nwinningnum_combinations_remaining = combinations(43, 6 - n_winningnum)\n",
    "    successful_outcomes = nwinningnum_combinations * nwinningnum_combinations_remaining\n",
    "    \n",
    "    #all possible outcomes from the set of 49 numbers \n",
    "    #that range from 1 to 49.\n",
    "    total_possible_outcomes = combinations(49 , 6)\n",
    "    \n",
    "    #Calculate the probability using the number of \n",
    "    #successful outcomes and the number of total possible outcomes.\n",
    "    probability_nwinningnum = successful_outcomes / total_possible_outcomes\n",
    "    \n",
    "    #calculate the percentage of probability\n",
    "    nwinningnumprobability_percentage = probability_nwinningnum * 100\n",
    "    \n",
    "    \n",
    "    #user-friendly message for lay person to understand the\n",
    "    #probability of winning chance for two, three, four, \n",
    "    #or five winning numbers\n",
    "    print(\"Your chances of having {} winning numbers with this ticket are {:.6f}%.\"\n",
    "          .format(n_winningnum, nwinningnumprobability_percentage))"
   ]
  },
  {
   "cell_type": "code",
   "execution_count": 17,
   "metadata": {},
   "outputs": [
    {
     "name": "stdout",
     "output_type": "stream",
     "text": [
      "Your chances of having 2 winning numbers with this ticket are 13.237803%.\n",
      "\n",
      "Your chances of having 3 winning numbers with this ticket are 1.765040%.\n",
      "\n",
      "Your chances of having 4 winning numbers with this ticket are 0.096862%.\n",
      "\n",
      "Your chances of having 5 winning numbers with this ticket are 0.001845%.\n",
      "\n"
     ]
    }
   ],
   "source": [
    "nwinningnum_testcases = [2, 3, 4, 5]\n",
    "\n",
    "for cases in nwinningnum_testcases:\n",
    "    probability_less_6(cases)\n",
    "    print()"
   ]
  },
  {
   "cell_type": "markdown",
   "metadata": {},
   "source": [
    "# Conclusion\n",
    "\n",
    "> We had set out with a goal in this project to write code that can enable users to answer probability questions about playing \n",
    "> the lottery. We were working for the first version of the app and we managed to write four main functions for our app:\n",
    "\n",
    "> * one_ticket_probability() — calculates the probability of winning the big prize with a single ticket\n",
    "> * check_historical_occurrence() — checks whether a certain combination has occurred as winning number in the Canada lottery \n",
    "> dataset\n",
    "> * multi_ticket_probability() — calculates the probability for any number of tickets between 1 and 13,983,816\n",
    "> * probability_less_6() — calculates the probability of having two, three, four or five winning numbers\n",
    "\n",
    "> For the second version of the app there are a lots of other possible features we can include to enhance our app. But for this \n",
    "> first version we indeed did a fair work what we had set out to do:\n",
    "\n",
    "> *Through Probability help lottery addicts better estimate their chances of winning the lottery so that they can think \n",
    "> logically before purchasing a ticket for themselves and thus get a bit control on their addiction.*"
   ]
  }
 ],
 "metadata": {
  "kernelspec": {
   "display_name": "Python 3",
   "language": "python",
   "name": "python3"
  },
  "language_info": {
   "codemirror_mode": {
    "name": "ipython",
    "version": 3
   },
   "file_extension": ".py",
   "mimetype": "text/x-python",
   "name": "python",
   "nbconvert_exporter": "python",
   "pygments_lexer": "ipython3",
   "version": "3.7.4"
  }
 },
 "nbformat": 4,
 "nbformat_minor": 2
}
